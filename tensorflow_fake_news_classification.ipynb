{
  "nbformat": 4,
  "nbformat_minor": 0,
  "metadata": {
    "accelerator": "GPU",
    "colab": {
      "name": "tensorflow_fake_news_classification.ipynb",
      "provenance": [],
      "collapsed_sections": []
    },
    "kernelspec": {
      "display_name": "Python 3",
      "language": "python",
      "name": "python3"
    },
    "language_info": {
      "codemirror_mode": {
        "name": "ipython",
        "version": 3
      },
      "file_extension": ".py",
      "mimetype": "text/x-python",
      "name": "python",
      "nbconvert_exporter": "python",
      "pygments_lexer": "ipython3",
      "version": "3.8.5"
    }
  },
  "cells": [
    {
      "cell_type": "code",
      "metadata": {
        "id": "gnwiOnGyW5JK"
      },
      "source": [
        "import csv\n",
        "import tensorflow as tf\n",
        "import numpy as np\n",
        "from tensorflow.keras.preprocessing.text import Tokenizer\n",
        "from tensorflow.keras.preprocessing.sequence import pad_sequences\n",
        "import os\n",
        "\n"
      ],
      "execution_count": 1,
      "outputs": []
    },
    {
      "cell_type": "code",
      "metadata": {
        "id": "EYo6A4v5ZABQ"
      },
      "source": [
        "vocab_size = 1000 \n",
        "embedding_dim = 16 \n",
        "max_length = 50 \n",
        "trunc_type='post' \n",
        "padding_type='post' \n",
        "oov_tok = \"<OOV>\" \n",
        "training_portion = .8"
      ],
      "execution_count": 2,
      "outputs": []
    },
    {
      "cell_type": "code",
      "metadata": {
        "id": "iU1qq3_SZBx_",
        "outputId": "00683be8-b5d5-48d2-ad8d-8de710f6daf8",
        "colab": {
          "base_uri": "https://localhost:8080/"
        }
      },
      "source": [
        "sentences = []\n",
        "labels = []\n",
        "stopwords = [ \"a\", \"about\", \"above\", \"after\", \"again\", \"against\", \"all\", \"am\", \"an\", \"and\", \"any\", \"are\", \"as\", \"at\", \"be\", \"because\", \"been\", \"before\", \"being\", \"below\", \"between\", \"both\", \"but\", \"by\", \"could\", \"did\", \"do\", \"does\", \"doing\", \"down\", \"during\", \"each\", \"few\", \"for\", \"from\", \"further\", \"had\", \"has\", \"have\", \"having\", \"he\", \"he'd\", \"he'll\", \"he's\", \"her\", \"here\", \"here's\", \"hers\", \"herself\", \"him\", \"himself\", \"his\", \"how\", \"how's\", \"i\", \"i'd\", \"i'll\", \"i'm\", \"i've\", \"if\", \"in\", \"into\", \"is\", \"it\", \"it's\", \"its\", \"itself\", \"let's\", \"me\", \"more\", \"most\", \"my\", \"myself\", \"nor\", \"of\", \"on\", \"once\", \"only\", \"or\", \"other\", \"ought\", \"our\", \"ours\", \"ourselves\", \"out\", \"over\", \"own\", \"same\", \"she\", \"she'd\", \"she'll\", \"she's\", \"should\", \"so\", \"some\", \"such\", \"than\", \"that\", \"that's\", \"the\", \"their\", \"theirs\", \"them\", \"themselves\", \"then\", \"there\", \"there's\", \"these\", \"they\", \"they'd\", \"they'll\", \"they're\", \"they've\", \"this\", \"those\", \"through\", \"to\", \"too\", \"under\", \"until\", \"up\", \"very\", \"was\", \"we\", \"we'd\", \"we'll\", \"we're\", \"we've\", \"were\", \"what\", \"what's\", \"when\", \"when's\", \"where\", \"where's\", \"which\", \"while\", \"who\", \"who's\", \"whom\", \"why\", \"why's\", \"with\", \"would\", \"you\", \"you'd\", \"you'll\", \"you're\", \"you've\", \"your\", \"yours\", \"yourself\", \"yourselves\" ]\n",
        "print(len(stopwords))\n"
      ],
      "execution_count": 3,
      "outputs": [
        {
          "output_type": "stream",
          "name": "stdout",
          "text": [
            "153\n"
          ]
        }
      ]
    },
    {
      "cell_type": "code",
      "source": [
        "from google.colab import drive\n",
        "drive.mount('/content/gdrive')"
      ],
      "metadata": {
        "colab": {
          "base_uri": "https://localhost:8080/"
        },
        "id": "WHq2bktvQ5e_",
        "outputId": "4e14d685-1332-4e53-9d0f-39cde9dd680f"
      },
      "execution_count": 4,
      "outputs": [
        {
          "output_type": "stream",
          "name": "stdout",
          "text": [
            "Drive already mounted at /content/gdrive; to attempt to forcibly remount, call drive.mount(\"/content/gdrive\", force_remount=True).\n"
          ]
        }
      ]
    },
    {
      "cell_type": "code",
      "metadata": {
        "id": "eutB2xMiZD0e",
        "outputId": "a56c7c43-97e0-43ad-ceaf-f861c0d97371",
        "colab": {
          "base_uri": "https://localhost:8080/"
        }
      },
      "source": [
        "with open(f\"{os.getcwd()}/gdrive/MyDrive/true_fake_news/True.csv\", 'r') as csvfile:\n",
        "    reader = csv.reader(csvfile, delimiter=',')\n",
        "    next(reader)\n",
        "    for row in reader:\n",
        "        labels.append(0)\n",
        "        sentence = row[0]\n",
        "        for word in stopwords:\n",
        "            token = \" \" + word + \" \"\n",
        "            sentence = sentence.replace(token, \" \")\n",
        "        sentences.append(sentence)\n",
        "\n",
        "with open(f\"{os.getcwd()}/gdrive/MyDrive/true_fake_news/Fake.csv\", 'r') as csvfile:\n",
        "    reader = csv.reader(csvfile, delimiter=',')\n",
        "    next(reader)\n",
        "    for row in reader:\n",
        "        labels.append(1)\n",
        "        sentence = row[0]\n",
        "        for word in stopwords:\n",
        "            token = \" \" + word + \" \"\n",
        "            sentence = sentence.replace(token, \" \")\n",
        "        sentences.append(sentence)  \n",
        " \n",
        "print(len(labels))\n",
        "print(len(sentences))\n",
        "print(sentences[0])\n",
        "print(labels[0])\n"
      ],
      "execution_count": 5,
      "outputs": [
        {
          "output_type": "stream",
          "name": "stdout",
          "text": [
            "44898\n",
            "44898\n",
            "As U.S. budget fight looms, Republicans flip fiscal script\n",
            "0\n"
          ]
        }
      ]
    },
    {
      "cell_type": "code",
      "metadata": {
        "id": "XfdaWh06ZGe3",
        "outputId": "32235fda-8c6c-4bcd-dbb2-9928004e17bd",
        "colab": {
          "base_uri": "https://localhost:8080/"
        }
      },
      "source": [
        "train_size = int(len(sentences) * training_portion) \n",
        "train_sentences = sentences[:train_size] \n",
        "train_labels = labels[:train_size] \n",
        "\n",
        "validation_sentences = sentences[train_size:] \n",
        "validation_labels = labels[train_size:] \n",
        "\n",
        "print(train_size)\n",
        "print(len(train_sentences))\n",
        "print(len(train_labels))\n",
        "print(len(validation_sentences))\n",
        "print(len(validation_labels))\n",
        "\n"
      ],
      "execution_count": 7,
      "outputs": [
        {
          "output_type": "stream",
          "name": "stdout",
          "text": [
            "35918\n",
            "35918\n",
            "35918\n",
            "8980\n",
            "8980\n"
          ]
        }
      ]
    },
    {
      "cell_type": "code",
      "source": [
        "training_labels = np.array(train_labels)\n",
        "validation_labels = np.array(validation_labels)"
      ],
      "metadata": {
        "id": "CuYLN9VaT6sG"
      },
      "execution_count": 8,
      "outputs": []
    },
    {
      "cell_type": "code",
      "source": [
        "tokenizer = Tokenizer(num_words = vocab_size, oov_token=oov_tok) \n",
        "tokenizer.fit_on_texts(train_sentences) \n",
        "word_index = tokenizer.word_index \n",
        "\n",
        "train_sequences = tokenizer.texts_to_sequences(train_sentences) \n",
        "train_padded = pad_sequences(train_sequences, padding=padding_type, maxlen=max_length) \n",
        "\n",
        "\n",
        "\n",
        "print(len(train_sequences[0]))\n",
        "print(len(train_padded[0]))\n",
        "\n",
        "print(len(train_sequences[1]))\n",
        "print(len(train_padded[1]))\n",
        "\n",
        "print(len(train_sequences[10]))\n",
        "print(len(train_padded[10]))"
      ],
      "metadata": {
        "colab": {
          "base_uri": "https://localhost:8080/"
        },
        "id": "xDG0llGxTBwT",
        "outputId": "409e7e8b-75db-4594-b8c6-eda09114dc14"
      },
      "execution_count": 9,
      "outputs": [
        {
          "output_type": "stream",
          "name": "stdout",
          "text": [
            "10\n",
            "50\n",
            "8\n",
            "50\n",
            "9\n",
            "50\n"
          ]
        }
      ]
    },
    {
      "cell_type": "code",
      "metadata": {
        "id": "c8PeFWzPZLW_",
        "outputId": "6ba2e4f6-578f-4ece-e5c0-36a4d47657c6",
        "colab": {
          "base_uri": "https://localhost:8080/"
        }
      },
      "source": [
        "validation_sequences = tokenizer.texts_to_sequences(validation_sentences) \n",
        "validation_padded = pad_sequences(validation_sequences, padding=padding_type, maxlen=max_length)\n",
        "\n",
        "print(len(validation_sequences))\n",
        "print(validation_padded.shape)\n"
      ],
      "execution_count": 10,
      "outputs": [
        {
          "output_type": "stream",
          "name": "stdout",
          "text": [
            "8980\n",
            "(8980, 50)\n"
          ]
        }
      ]
    },
    {
      "cell_type": "code",
      "metadata": {
        "id": "HZ5um4MWZP-W",
        "outputId": "e7c9ce1c-dbae-4f37-9007-7c8089cdd236",
        "colab": {
          "base_uri": "https://localhost:8080/"
        }
      },
      "source": [
        "model = tf.keras.Sequential([ \n",
        "    tf.keras.layers.Embedding(vocab_size, embedding_dim, input_length=max_length),\n",
        "    tf.keras.layers.GlobalAveragePooling1D(),\n",
        "    tf.keras.layers.Dense(24, activation='relu'),\n",
        "    tf.keras.layers.Dense(1, activation='sigmoid')\n",
        "])\n",
        "\n",
        "model.compile(loss='binary_crossentropy',optimizer='adam',metrics=['accuracy'])\n",
        "model.summary()\n",
        "\n"
      ],
      "execution_count": 11,
      "outputs": [
        {
          "output_type": "stream",
          "name": "stdout",
          "text": [
            "Model: \"sequential\"\n",
            "_________________________________________________________________\n",
            " Layer (type)                Output Shape              Param #   \n",
            "=================================================================\n",
            " embedding (Embedding)       (None, 50, 16)            16000     \n",
            "                                                                 \n",
            " global_average_pooling1d (G  (None, 16)               0         \n",
            " lobalAveragePooling1D)                                          \n",
            "                                                                 \n",
            " dense (Dense)               (None, 24)                408       \n",
            "                                                                 \n",
            " dense_1 (Dense)             (None, 1)                 25        \n",
            "                                                                 \n",
            "=================================================================\n",
            "Total params: 16,433\n",
            "Trainable params: 16,433\n",
            "Non-trainable params: 0\n",
            "_________________________________________________________________\n"
          ]
        }
      ]
    },
    {
      "cell_type": "code",
      "metadata": {
        "id": "XsfdxySKZSXu",
        "outputId": "e4746306-c0c1-477e-bca7-a13eb64474b3",
        "colab": {
          "base_uri": "https://localhost:8080/"
        }
      },
      "source": [
        "num_epochs = 30\n",
        "history = model.fit(train_padded, training_labels, epochs=num_epochs, validation_data=(validation_padded, validation_labels), verbose=2)"
      ],
      "execution_count": 12,
      "outputs": [
        {
          "output_type": "stream",
          "name": "stdout",
          "text": [
            "Epoch 1/30\n",
            "1123/1123 - 7s - loss: 0.2214 - accuracy: 0.9047 - val_loss: 0.2779 - val_accuracy: 0.8816 - 7s/epoch - 6ms/step\n",
            "Epoch 2/30\n",
            "1123/1123 - 5s - loss: 0.0365 - accuracy: 0.9892 - val_loss: 0.2901 - val_accuracy: 0.8934 - 5s/epoch - 5ms/step\n",
            "Epoch 3/30\n",
            "1123/1123 - 5s - loss: 0.0264 - accuracy: 0.9919 - val_loss: 0.4081 - val_accuracy: 0.8768 - 5s/epoch - 5ms/step\n",
            "Epoch 4/30\n",
            "1123/1123 - 5s - loss: 0.0230 - accuracy: 0.9926 - val_loss: 0.3459 - val_accuracy: 0.8959 - 5s/epoch - 5ms/step\n",
            "Epoch 5/30\n",
            "1123/1123 - 5s - loss: 0.0209 - accuracy: 0.9938 - val_loss: 0.3648 - val_accuracy: 0.8974 - 5s/epoch - 5ms/step\n",
            "Epoch 6/30\n",
            "1123/1123 - 5s - loss: 0.0193 - accuracy: 0.9942 - val_loss: 0.2753 - val_accuracy: 0.9203 - 5s/epoch - 5ms/step\n",
            "Epoch 7/30\n",
            "1123/1123 - 5s - loss: 0.0183 - accuracy: 0.9943 - val_loss: 0.4300 - val_accuracy: 0.8922 - 5s/epoch - 5ms/step\n",
            "Epoch 8/30\n",
            "1123/1123 - 5s - loss: 0.0178 - accuracy: 0.9950 - val_loss: 0.4045 - val_accuracy: 0.8991 - 5s/epoch - 5ms/step\n",
            "Epoch 9/30\n",
            "1123/1123 - 5s - loss: 0.0170 - accuracy: 0.9951 - val_loss: 0.4818 - val_accuracy: 0.8899 - 5s/epoch - 5ms/step\n",
            "Epoch 10/30\n",
            "1123/1123 - 5s - loss: 0.0166 - accuracy: 0.9949 - val_loss: 0.3725 - val_accuracy: 0.9090 - 5s/epoch - 5ms/step\n",
            "Epoch 11/30\n",
            "1123/1123 - 5s - loss: 0.0159 - accuracy: 0.9954 - val_loss: 0.3574 - val_accuracy: 0.9143 - 5s/epoch - 5ms/step\n",
            "Epoch 12/30\n",
            "1123/1123 - 5s - loss: 0.0156 - accuracy: 0.9954 - val_loss: 0.3419 - val_accuracy: 0.9180 - 5s/epoch - 5ms/step\n",
            "Epoch 13/30\n",
            "1123/1123 - 5s - loss: 0.0156 - accuracy: 0.9953 - val_loss: 0.4509 - val_accuracy: 0.9028 - 5s/epoch - 5ms/step\n",
            "Epoch 14/30\n",
            "1123/1123 - 5s - loss: 0.0150 - accuracy: 0.9952 - val_loss: 0.3200 - val_accuracy: 0.9256 - 5s/epoch - 5ms/step\n",
            "Epoch 15/30\n",
            "1123/1123 - 5s - loss: 0.0149 - accuracy: 0.9956 - val_loss: 0.4304 - val_accuracy: 0.9090 - 5s/epoch - 5ms/step\n",
            "Epoch 16/30\n",
            "1123/1123 - 5s - loss: 0.0144 - accuracy: 0.9955 - val_loss: 0.3133 - val_accuracy: 0.9286 - 5s/epoch - 5ms/step\n",
            "Epoch 17/30\n",
            "1123/1123 - 5s - loss: 0.0146 - accuracy: 0.9954 - val_loss: 0.4125 - val_accuracy: 0.9133 - 5s/epoch - 5ms/step\n",
            "Epoch 18/30\n",
            "1123/1123 - 5s - loss: 0.0139 - accuracy: 0.9958 - val_loss: 0.3556 - val_accuracy: 0.9235 - 5s/epoch - 5ms/step\n",
            "Epoch 19/30\n",
            "1123/1123 - 5s - loss: 0.0141 - accuracy: 0.9954 - val_loss: 0.5379 - val_accuracy: 0.8960 - 5s/epoch - 5ms/step\n",
            "Epoch 20/30\n",
            "1123/1123 - 5s - loss: 0.0136 - accuracy: 0.9956 - val_loss: 0.3113 - val_accuracy: 0.9305 - 5s/epoch - 5ms/step\n",
            "Epoch 21/30\n",
            "1123/1123 - 5s - loss: 0.0135 - accuracy: 0.9959 - val_loss: 0.3288 - val_accuracy: 0.9296 - 5s/epoch - 5ms/step\n",
            "Epoch 22/30\n",
            "1123/1123 - 5s - loss: 0.0135 - accuracy: 0.9962 - val_loss: 0.3018 - val_accuracy: 0.9343 - 5s/epoch - 5ms/step\n",
            "Epoch 23/30\n",
            "1123/1123 - 5s - loss: 0.0135 - accuracy: 0.9960 - val_loss: 0.4262 - val_accuracy: 0.9122 - 5s/epoch - 5ms/step\n",
            "Epoch 24/30\n",
            "1123/1123 - 5s - loss: 0.0133 - accuracy: 0.9958 - val_loss: 0.4924 - val_accuracy: 0.9036 - 5s/epoch - 5ms/step\n",
            "Epoch 25/30\n",
            "1123/1123 - 5s - loss: 0.0132 - accuracy: 0.9960 - val_loss: 0.4348 - val_accuracy: 0.9121 - 5s/epoch - 5ms/step\n",
            "Epoch 26/30\n",
            "1123/1123 - 5s - loss: 0.0129 - accuracy: 0.9959 - val_loss: 0.3972 - val_accuracy: 0.9173 - 5s/epoch - 5ms/step\n",
            "Epoch 27/30\n",
            "1123/1123 - 5s - loss: 0.0130 - accuracy: 0.9959 - val_loss: 0.4451 - val_accuracy: 0.9109 - 5s/epoch - 5ms/step\n",
            "Epoch 28/30\n",
            "1123/1123 - 5s - loss: 0.0127 - accuracy: 0.9960 - val_loss: 0.4983 - val_accuracy: 0.9047 - 5s/epoch - 5ms/step\n",
            "Epoch 29/30\n",
            "1123/1123 - 5s - loss: 0.0123 - accuracy: 0.9965 - val_loss: 0.4270 - val_accuracy: 0.9147 - 5s/epoch - 5ms/step\n",
            "Epoch 30/30\n",
            "1123/1123 - 5s - loss: 0.0125 - accuracy: 0.9965 - val_loss: 0.3758 - val_accuracy: 0.9232 - 5s/epoch - 5ms/step\n"
          ]
        }
      ]
    },
    {
      "cell_type": "code",
      "metadata": {
        "id": "dQ0BX2apXS9u",
        "outputId": "22e963e2-4d8e-4da1-b834-f404d82f2cd0",
        "colab": {
          "base_uri": "https://localhost:8080/",
          "height": 541
        }
      },
      "source": [
        "import matplotlib.pyplot as plt\n",
        "\n",
        "\n",
        "def plot_graphs(history, string):\n",
        "  plt.plot(history.history[string])\n",
        "  plt.plot(history.history['val_'+string])\n",
        "  plt.xlabel(\"Epochs\")\n",
        "  plt.ylabel(string)\n",
        "  plt.legend([string, 'val_'+string])\n",
        "  plt.show()\n",
        "  \n",
        "plot_graphs(history, \"accuracy\")\n",
        "plot_graphs(history, \"loss\")"
      ],
      "execution_count": 13,
      "outputs": [
        {
          "output_type": "display_data",
          "data": {
            "image/png": "[encoded data removed]",
            "text/plain": [
              "<Figure size 432x288 with 1 Axes>"
            ]
          },
          "metadata": {
            "needs_background": "light"
          }
        },
        {
          "output_type": "display_data",
          "data": {
            "image/png": "[encoded data removed]",
            "text/plain": [
              "<Figure size 432x288 with 1 Axes>"
            ]
          },
          "metadata": {
            "needs_background": "light"
          }
        }
      ]
    }
  ]
}